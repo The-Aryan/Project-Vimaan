{
 "cells": [
  {
   "cell_type": "code",
   "execution_count": 13,
   "id": "e709d2fc",
   "metadata": {},
   "outputs": [],
   "source": [
    "import json\n",
    "import joblib\n",
    "from sklearn.model_selection import train_test_split\n",
    "from sentence_transformers import SentenceTransformer\n",
    "from sklearn.linear_model import LogisticRegression\n",
    "from sklearn.metrics import accuracy_score, classification_report"
   ]
  },
  {
   "cell_type": "code",
   "execution_count": 14,
   "id": "f983ec03",
   "metadata": {},
   "outputs": [
    {
     "name": "stdout",
     "output_type": "stream",
     "text": [
      "1459 365\n"
     ]
    }
   ],
   "source": [
    "dataset = []\n",
    "with open(\"aviation_cmds.jsonl\", \"r\") as f:\n",
    "    for line in f:\n",
    "        dataset.append(json.loads(line))\n",
    "\n",
    "train_data, test_data = train_test_split(dataset, test_size=0.2, random_state=42)\n",
    "print(len(train_data), len(test_data))"
   ]
  },
  {
   "cell_type": "code",
   "execution_count": 15,
   "id": "1c7fd158",
   "metadata": {},
   "outputs": [],
   "source": [
    "embedding_model = SentenceTransformer('all-MiniLM-L6-v2')\n",
    "\n",
    "X_train = [d['text'] for d in train_data]\n",
    "y_train = [d['intent'] for d in train_data]\n",
    "\n",
    "X_test = [d['text'] for d in test_data]\n",
    "y_test = [d['intent'] for d in test_data]\n",
    "\n",
    "X_train_embeddings = embedding_model.encode(X_train)\n",
    "X_test_embeddings = embedding_model.encode(X_test)"
   ]
  },
  {
   "cell_type": "code",
   "execution_count": 16,
   "id": "85a85eec",
   "metadata": {},
   "outputs": [
    {
     "name": "stdout",
     "output_type": "stream",
     "text": [
      "Test Accuracy: 1.0\n",
      "                       precision    recall  f1-score   support\n",
      "\n",
      "      AUTOPILOT_1_OFF       1.00      1.00      1.00        15\n",
      "       AUTOPILOT_1_ON       1.00      1.00      1.00        15\n",
      "      AUTOPILOT_2_OFF       1.00      1.00      1.00        23\n",
      "       AUTOPILOT_2_ON       1.00      1.00      1.00        18\n",
      "         ENGINE_1_OFF       1.00      1.00      1.00        18\n",
      "          ENGINE_1_ON       1.00      1.00      1.00        17\n",
      "         ENGINE_2_OFF       1.00      1.00      1.00        18\n",
      "          ENGINE_2_ON       1.00      1.00      1.00        19\n",
      "           FLAPS_DOWN       1.00      1.00      1.00        23\n",
      "             FLAPS_UP       1.00      1.00      1.00        22\n",
      "FLIGHT_DIRECTOR_1_OFF       1.00      1.00      1.00        18\n",
      " FLIGHT_DIRECTOR_1_ON       1.00      1.00      1.00        21\n",
      "FLIGHT_DIRECTOR_2_OFF       1.00      1.00      1.00        20\n",
      " FLIGHT_DIRECTOR_2_ON       1.00      1.00      1.00        21\n",
      "            GEAR_DOWN       1.00      1.00      1.00        33\n",
      "              GEAR_UP       1.00      1.00      1.00        28\n",
      "    PARKING_BRAKE_OFF       1.00      1.00      1.00        18\n",
      "     PARKING_BRAKE_ON       1.00      1.00      1.00        18\n",
      "\n",
      "             accuracy                           1.00       365\n",
      "            macro avg       1.00      1.00      1.00       365\n",
      "         weighted avg       1.00      1.00      1.00       365\n",
      "\n"
     ]
    }
   ],
   "source": [
    "classifier = LogisticRegression(max_iter=1000)\n",
    "classifier.fit(X_train_embeddings, y_train)\n",
    "\n",
    "y_pred = classifier.predict(X_test_embeddings)\n",
    "print(\"Test Accuracy:\", accuracy_score(y_test, y_pred))\n",
    "print(classification_report(y_test, y_pred))"
   ]
  },
  {
   "cell_type": "code",
   "execution_count": 17,
   "id": "3a1a2123",
   "metadata": {},
   "outputs": [
    {
     "name": "stdout",
     "output_type": "stream",
     "text": [
      "GEAR_UP\n",
      "AUTOPILOT_2_ON\n",
      "PARKING_BRAKE_OFF\n"
     ]
    }
   ],
   "source": [
    "def predict_action(command_text):\n",
    "    embedding = embedding_model.encode([command_text])\n",
    "    return classifier.predict(embedding)[0]\n",
    "\n",
    "print(predict_action(\"lift the landing gear\"))\n",
    "print(predict_action(\"engage autopilot 2 now\"))\n",
    "print(predict_action(\"release parking brake\"))"
   ]
  },
  {
   "cell_type": "code",
   "execution_count": 18,
   "id": "62bf2273",
   "metadata": {},
   "outputs": [
    {
     "name": "stdout",
     "output_type": "stream",
     "text": [
      "Saved model as ai_copilot.pkl\n"
     ]
    }
   ],
   "source": [
    "joblib.dump(classifier, \"ai_copilot.pkl\")\n",
    "print(\"Saved model as ai_copilot.pkl\")"
   ]
  },
  {
   "cell_type": "code",
   "execution_count": null,
   "id": "c87cdd81",
   "metadata": {},
   "outputs": [],
   "source": []
  }
 ],
 "metadata": {
  "kernelspec": {
   "display_name": "Python 3",
   "language": "python",
   "name": "python3"
  },
  "language_info": {
   "codemirror_mode": {
    "name": "ipython",
    "version": 3
   },
   "file_extension": ".py",
   "mimetype": "text/x-python",
   "name": "python",
   "nbconvert_exporter": "python",
   "pygments_lexer": "ipython3",
   "version": "3.13.3"
  }
 },
 "nbformat": 4,
 "nbformat_minor": 5
}
